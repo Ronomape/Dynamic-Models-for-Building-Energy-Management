{
 "cells": [
  {
   "cell_type": "markdown",
   "id": "9dcd414d",
   "metadata": {},
   "source": [
    "# <p style=\"color:red\">Dynamic Models for Building Energy Management.</p>"
   ]
  },
  {
   "cell_type": "markdown",
   "id": "1b9a382d",
   "metadata": {},
   "source": [
    "*Noémie Vauthier/ Roméo Viel / Perrine Julien / Marine Phalippon*\n",
    "\n",
    "*students at Grenoble INP - ENSE3 '2A-SEM-G2'*\n",
    "\n",
    "*date: 2022/06/07*\n"
   ]
  },
  {
   "cell_type": "markdown",
   "id": "990918a9",
   "metadata": {},
   "source": [
    "## <p style=\"color:blue\"> Contents </p>\n",
    "\n",
    "    - 1. Description of the building\n",
    "    - 2. Hypothesis: location, boundary conditions, schedule for usage, etc.\n",
    "    - 3. Thermal model\n",
    "    - 4. Mathematical model \n",
    "    - 5. Results"
   ]
  },
  {
   "cell_type": "markdown",
   "id": "8294ac26",
   "metadata": {},
   "source": [
    "## <p style=\"color:blue\"> 1. Description of the building </p>\n",
    "\n",
    "The \"École Nationale Supérieure d'Informatique et de Mathématiques Appliquées\" (Grenoble INP - Ensimag) is equipped with a data center. This data center is located in a larger building.  \n",
    "\n",
    "The area under consideration consists of two rooms. The data center, which represents an important heat source, is located in the larger room. This large room also includes a ventilation system (and six air outlets on walls 5 and 6). \n",
    "\n",
    "Our zone has 8 different walls: \n",
    "- 1 : separation with an interior room\n",
    "- 2 : border with the outside air including many windows \n",
    "- 3: border with the outside air\n",
    "- 4 : communicates with a corridor \n",
    "- 5 : border between the small room and the big room with a door \n",
    "- 6 : border between the small room and the big room with different proprieties of the wall 5\n",
    "- 7 : separation with an interior room with different proprieties of the wall 1\n",
    "- 8: connection with a corridor with different properties of wall 4\n",
    "    \n",
    "We have all the thermal data of this room as well as all the parameters of the walls and the power of the data processing center. This room seemed particularly interesting to model because it is a real case. \n",
    "\n",
    "![Building3D](Building3D.png)\n",
    "> 3D scheme of the real building"
   ]
  },
  {
   "cell_type": "markdown",
   "id": "99f75471",
   "metadata": {},
   "source": [
    "## <p style=\"color:blue\"> 2. Hypothesis </p>\n",
    "\n",
    "All the walls are originally different (materials, thickness) but we decide in order to simplify the problem to gather wall 7 and 4 in one wall (\"wall4\") because they have similar properties and are both in contact with the corridor. We do the same with walls 5 and 6 (\"wall5\"). \n",
    "\n",
    "We also remove the openings on wall 5 to simplify the modeling. We decide at first not to take into account the ventilation system. \n",
    "\n",
    "The wall 4 being in contact with a room which has a similar temperature with the one of the data center, the thermal exchanges by the wall are small, we decide to consider this wall as adiabatic. This assumption is very strong because this wall will not appear in the thermal modeling. \n",
    "\n",
    "For wall 2, we consider that the numerous windows are only one large window. \n",
    "\n",
    "The last simplifying assumption is in the composition of the walls. In the real case, the walls are composed of 3 layers of materials. But we decide to consider only one layer of building materials and one layer of insulation. \n",
    "\n",
    "- Interior/interior wall: the second layer of BA13 is neglected because its thickness is low. This leads to take into account a wall composed of BA13 and air. \n",
    "- Exterior/interior wall: we take into account the construction layer because it is the thickest layer as well as the insulation. Indeed, these are the two layers that are the most resistant to heat flow. The BA13 layer is neglected. \n",
    "\t\n",
    "Finally, we have the following scheme: \n",
    "![Building](Building1.png)\n",
    "> 2D scheme for the modelisation of the building\n",
    "\n",
    "Our subject is a real case, which has been studied by a team member in another project. Therefore, we did not have to make any assumptions about wall thicknesses or boundary conditions (e.g. corridor temperature). Indeed, these are data that have been measured before. Also, the power of the data center is known and is 10 000W. \n"
   ]
  },
  {
   "cell_type": "markdown",
   "id": "13a54239",
   "metadata": {},
   "source": [
    "## <p style=\"color:blue\"> 3. Thermal model </p>\n",
    "In a first step, we made a first diagram of our problem by hand:\n",
    "![Thermal_scheme](Thermal_scheme.png)\n",
    ">Thermal scheme of our problem\n",
    "\n",
    "The problem represented here is the unoptimized one (without ventilation).\n",
    "\n",
    "The two temperatures we wanted to know are Ө20 and Ө21.\n",
    "\n",
    "We have modeled each wall with six resistances: \n",
    "- A first convective resistor representing the air/external wall interface.\n",
    "- A radiation flow arriving between the convective and conductive resistor to model the solar radiation arriving on the exterior wall\n",
    "- Two resistors representing the wall, with a node in the middle to model the storage capacity of the wall\n",
    "- Two resistors representing the insulation, with a node in the middle to model the storage capacity of the wall\n",
    "- Another radiation flux arriving between the convective and conductive resistor to model the solar radiation arriving on the - interior wall\n",
    "- A convective resistance representing the interface insulator / interior air\n",
    "\n",
    "Before each wall, we have a temperature source, representing either the outdoor temperature T0, a room temperature Ө20 or Ө21, or the corridor temperature Th.\n",
    "\n",
    "The window and doors are simply modeled by a resistance between a temperature source and the room temperature. For the small room, the door resistance parallels the wall modeling.\n",
    "\n",
    "The ability of the main room to store heat is modeled by a capacitor.\n",
    "\n",
    "The data center, the heat source, is modeled by a heat flow arrival.\n",
    "\n",
    "Finally, our initial problem has 22 nodes (nq = 22), 27 flows (nθ = 27) and 8 branches.\n",
    "\n",
    "### <p style=\"color:orange\"> 3.1 Description of the walls</p>\n",
    "First, we described the properties of the materials we used. They have different properties (density, specific heat, conductivity) :"
   ]
  },
  {
   "cell_type": "code",
   "execution_count": 30,
   "id": "cf9e5a12",
   "metadata": {},
   "outputs": [
    {
     "name": "stdout",
     "output_type": "stream",
     "text": [
      "\n",
      " materials \n",
      "                     Conductivity  Density  Specific heat\n",
      "beton arme                 1.750   2500.0           1008\n",
      "BA13                       0.250    825.0           1008\n",
      "laine de verre             0.040     18.0           1030\n",
      "parpaing de ciment         0.952   1185.0           1080\n",
      "air                        0.024      1.0           1005\n",
      "bois lourd                 0.200    800.0           2385\n",
      "verre                      0.065   2500.0            720\n"
     ]
    }
   ],
   "source": [
    "import numpy as np\n",
    "import pandas as pd\n",
    "import matplotlib.pyplot as plt\n",
    "import dm4bem\n",
    "\n",
    "# Variables \n",
    "Va = 107.3 #Volume of the room\n",
    "σ = 5.67e-8 # W/m².K⁴ Stefan-Bolzmann constant\n",
    "ε_wLW = 0.9 # long wave wall emmisivity (concrete)\n",
    "α_wSW = 0.2 # absortivity white surface\n",
    "ε_gLW = 0.9 # long wave glass emmisivity (glass pyrex)\n",
    "τ_gSW = 0.83 # short wave glass transmitance (glass)\n",
    "α_gSW = 0.1 # short wave glass absortivity\n",
    "\n",
    "# Physical properties\n",
    "material = {'Conductivity': [1.75, 0.25, 0.04, 0.952, 0.024, 0.2, 0.065],\n",
    "        'Density': [2500.0, 825, 18, 1185, 1, 800, 2500],\n",
    "        'Specific heat': [1008, 1008, 1030, 1080, 1005, 2385, 720]}\n",
    "\n",
    "material = pd.DataFrame(material, index=['beton arme', 'BA13', 'laine de verre', 'parpaing de ciment', 'air', 'bois lourd','verre'])\n",
    "print(\"\\n materials \\n\", material)\n"
   ]
  },
  {
   "cell_type": "markdown",
   "id": "63c45215",
   "metadata": {},
   "source": [
    "Each wall has different properties (material, thickness,…). We choose to make dictionaries in order to be able to easily select the information of each wall. The properties of each wall are detailed in our code below : "
   ]
  },
  {
   "cell_type": "code",
   "execution_count": 31,
   "id": "2d91fb1a",
   "metadata": {},
   "outputs": [
    {
     "name": "stdout",
     "output_type": "stream",
     "text": [
      "\n",
      " wall1 \n",
      "       Conductivity  Density  Specific heat   Width  Surface\n",
      "BA13         0.250    825.0           1008  0.0125   9.8046\n",
      "air          0.024      1.0           1005  0.1080   9.8046\n",
      "BA13         0.250    825.0           1008  0.0125   9.8046\n",
      "\n",
      " wall2 \n",
      "                     Conductivity  Density  Specific heat   Width  Surface\n",
      "parpaing de ciment         0.952   1185.0           1080  0.2000   15.537\n",
      "laine de verre             0.040     18.0           1030  0.0705   15.537\n",
      "BA13                       0.250    825.0           1008  0.0125   15.537\n",
      "\n",
      " wall3 \n",
      "                 Conductivity  Density  Specific heat   Width  Surface\n",
      "beton arme              1.75   2500.0           1008  0.3500  14.7966\n",
      "laine de verre          0.04     18.0           1030  0.0665  14.7966\n",
      "BA13                    0.25    825.0           1008  0.0125  14.7966\n",
      "\n",
      " wall4 \n",
      "                 Conductivity  Density  Specific heat   Width  Surface\n",
      "beton arme              1.75   2500.0           1008  0.3500   6.4064\n",
      "laine de verre          0.04     18.0           1030  0.0665   6.4064\n",
      "BA13                    0.25    825.0           1008  0.0125   6.4064\n",
      "\n",
      " wall5 \n",
      "          Conductivity  Density  Specific heat   Width   Surface\n",
      "BA13            0.250    825.0           1008  0.0125  17.62736\n",
      "isolant         0.024      1.0           1005  0.0885  17.62736\n",
      "BA13            0.250    825.0           1008  0.0125  17.62736\n"
     ]
    }
   ],
   "source": [
    "# Constantes\n",
    "\n",
    "h=pd.DataFrame([{'in':4., 'out':10}])\n",
    "\n",
    "# air inside the room\n",
    "\n",
    "air = {'Density': 1.2,\n",
    "       'Specific heat': 1000}\n",
    "\n",
    "\n",
    "wall1 = {'Conductivity': [material['Conductivity'][1], material['Conductivity'][4], material['Conductivity'][1]],\n",
    "        'Density': [material['Density'][1], material['Density'][4], material['Density'][1]],\n",
    "        'Specific heat': [material['Specific heat'][1], material['Specific heat'][4], material['Specific heat'][1]],\n",
    "        'Width': [0.0125, 0.108, 0.0125],\n",
    "        'Surface': 9.8046}\n",
    "\n",
    "wall1 = pd.DataFrame(wall1, index=['BA13', 'air', 'BA13'])\n",
    "\n",
    "print(\"\\n wall1 \\n\", wall1)\n",
    "\n",
    "wall2 = {'Conductivity': [material['Conductivity'][3], material['Conductivity'][2], material['Conductivity'][1]],\n",
    "        'Density': [material['Density'][3], material['Density'][2], material['Density'][1]],\n",
    "        'Specific heat': [material['Specific heat'][3], material['Specific heat'][2], material['Specific heat'][1]],\n",
    "        'Width': [0.2, 0.283-0.2-0.0125, 0.0125],\n",
    "        'Surface': 23.8602-8.3232}\n",
    "\n",
    "wall2 = pd.DataFrame(wall2, index=['parpaing de ciment', 'laine de verre', 'BA13'])\n",
    "\n",
    "print(\"\\n wall2 \\n\", wall2)\n",
    "\n",
    "wall3 = {'Conductivity': [material['Conductivity'][0], material['Conductivity'][2], material['Conductivity'][1]],\n",
    "        'Density': [material['Density'][0], material['Density'][2], material['Density'][1]],\n",
    "        'Specific heat': [material['Specific heat'][0], material['Specific heat'][2], material['Specific heat'][1]],\n",
    "        'Width': [0.35, 0.429-0.35-0.0125, 0.0125],\n",
    "        'Surface': 14.7966}\n",
    "\n",
    "wall3 = pd.DataFrame(wall3, index=['beton arme', 'laine de verre', 'BA13'])\n",
    "\n",
    "print(\"\\n wall3 \\n\", wall3)\n",
    "\n",
    "wall4 = {'Conductivity': [material['Conductivity'][0], material['Conductivity'][2], material['Conductivity'][1]],\n",
    "        'Density': [material['Density'][0], material['Density'][2], material['Density'][1]],\n",
    "        'Specific heat': [material['Specific heat'][0], material['Specific heat'][2], material['Specific heat'][1]],\n",
    "        'Width': [0.35, 0.429-0.35-0.0125, 0.0125],\n",
    "        'Surface': 9.1312-2.7248}\n",
    "\n",
    "wall4 = pd.DataFrame(wall4, index=['beton arme', 'laine de verre', 'BA13'])\n",
    "\n",
    "print(\"\\n wall4 \\n\", wall4)\n",
    "\n",
    "wall5 = {'Conductivity': [material['Conductivity'][1], material['Conductivity'][4], material['Conductivity'][1]],\n",
    "        'Density': [material['Density'][1], material['Density'][4], material['Density'][1]],\n",
    "        'Specific heat': [material['Specific heat'][1], material['Specific heat'][4], material['Specific heat'][1]],\n",
    "        'Width': [0.0125, (0.094-2*0.0125+0.133-2*0.0125)/2, 0.0125],\n",
    "        'Surface': 4.94-2.01564+14.703}\n",
    "\n",
    "wall5 = pd.DataFrame(wall5, index=['BA13', 'isolant', 'BA13'])\n",
    "\n",
    "print(\"\\n wall5 \\n\", wall5)\n"
   ]
  },
  {
   "cell_type": "markdown",
   "id": "0ab37a72",
   "metadata": {},
   "source": [
    "### <p style=\"color:orange\"> 3.1 Description of doors and windows</p>\n",
    "We also model doors and windows : "
   ]
  },
  {
   "cell_type": "code",
   "execution_count": 32,
   "id": "c4e788c1",
   "metadata": {},
   "outputs": [
    {
     "name": "stdout",
     "output_type": "stream",
     "text": [
      "\n",
      " entrydoor \n",
      " {'Conductivity': 0.2, 'Density': 800.0, 'Specific heat': 2385, 'Width': 0.04, 'Surface': 2.7248}\n",
      "\n",
      " storagedoor \n",
      " {'Conductivity': 0.2, 'Density': 800.0, 'Specific heat': 2385, 'Width': 0.039, 'Surface': 2.01564}\n",
      "\n",
      " window \n",
      " {'Conductivity': 0.065, 'Density': 2500.0, 'Specific heat': 720, 'Width': 0.015, 'Surface': 8.3232}\n"
     ]
    }
   ],
   "source": [
    "entrydoor = {'Conductivity': material['Conductivity'][5],\n",
    "        'Density': material['Density'][5],\n",
    "        'Specific heat': material['Specific heat'][5],\n",
    "        'Width': 0.04,\n",
    "        'Surface': 2.7248}\n",
    "\n",
    "storagedoor = {'Conductivity': material['Conductivity'][5],\n",
    "        'Density': material['Density'][5],\n",
    "        'Specific heat': material['Specific heat'][5],\n",
    "        'Width': 0.039,\n",
    "        'Surface': 2.01564}\n",
    "\n",
    "window = {'Conductivity': material['Conductivity'][6],\n",
    "        'Density': material['Density'][6],\n",
    "        'Specific heat': material['Specific heat'][6],\n",
    "        'Width': 0.015,\n",
    "        'Surface': 8.3232}\n",
    "print(\"\\n entrydoor \\n\", entrydoor)\n",
    "print(\"\\n storagedoor \\n\", storagedoor)\n",
    "print(\"\\n window \\n\", window)"
   ]
  },
  {
   "cell_type": "markdown",
   "id": "5dd4956c",
   "metadata": {},
   "source": [
    "## <p style=\"color:blue\"> 4. Mathematical model </p>\n",
    "### <p style=\"color:orange\"> 4.1 Calculation of A matrix </p>\n",
    "First, we decided to plot the matrix A.It shows how the temperature nodes are connected by branches of heat flow. It consists of nq rows and  nθ columns, where nq  is the number of flow branches and nθ is the number of temperature nodes. If flow m enters into the node n, then the element (m, n) is 1; if flow m exits from the node n, then the element (m, n) is -1; if flow m is not conected to node n, then the element (m, n) is 0.\n",
    "\n",
    "According to our resistance diagram, we can build the matrix A :\n",
    "![A](Amatrix.png)\n",
    "> A matrix "
   ]
  },
  {
   "cell_type": "code",
   "execution_count": 33,
   "id": "ab13ab47",
   "metadata": {},
   "outputs": [],
   "source": [
    "#Calcul des matrices\n",
    "\n",
    "#Code matrice A\n",
    "A=np.zeros([27,22])\n",
    "A[0,0]=1\n",
    "A[1,0],A[1,1]=-1,1\n",
    "A[2,1],A[2,2]=-1,1\n",
    "A[3,2],A[3,3]=-1,1\n",
    "A[4,3],A[4,4]=-1,1\n",
    "A[5,4],A[5,20]=-1,1\n",
    "A[1,0],A[1,1]=-1,1\n",
    "\n",
    "A[6,5]=1\n",
    "A[7,5],A[7,6]=-1,1\n",
    "A[8,6],A[8,7]=-1,1\n",
    "A[9,7],A[9,8]=-1,1\n",
    "A[10,8],A[10,9]=-1,1\n",
    "A[11,9],A[11,20]=-1,1\n",
    "\n",
    "A[12,10]=1\n",
    "A[13,10],A[13,11]=-1,1\n",
    "A[14,11],A[14,12]=-1,1\n",
    "A[15,12],A[15,13]=-1,1\n",
    "A[16,13],A[16,14]=-1,1\n",
    "A[17,14],A[17,20]=-1,1\n",
    "A[18,15],A[18,20]=-1,1\n",
    "\n",
    "A[19,15],A[19,16]=-1,1\n",
    "A[20,16],A[20,17]=-1,1\n",
    "A[21, 17], A[21, 18] = -1, 1\n",
    "A[22,18],A[22,19]=-1,1\n",
    "A[23,19],A[23,21]=-1,1\n",
    "A[24,20],A[24,21]=-1,1\n",
    "A[25,20]=1\n",
    "A[26,20]=1\n",
    "\n",
    "#print(A) #to see the python result"
   ]
  },
  {
   "cell_type": "markdown",
   "id": "b5875e2f",
   "metadata": {},
   "source": [
    "### <p style=\"color:orange\"> 4.2 Calculation of matrix G </p>\n",
    "The conductance matrix G is the diagonal matrix containing the conductances. Its size is It consists of nq*nq."
   ]
  },
  {
   "cell_type": "code",
   "execution_count": 34,
   "id": "69830006",
   "metadata": {},
   "outputs": [],
   "source": [
    "G=np.zeros([27,27])"
   ]
  },
  {
   "cell_type": "markdown",
   "id": "afff7180",
   "metadata": {},
   "source": [
    "For the conduction resistances, we have: G=conductivity/(surface*thickness). For the convective conductance we have G=Air convection coefficient *surface. The convection coefficient of the air is different inside and outside. \n",
    "For the doors and windows, we take into account the convection and conduction resitance in the same value of conductance. \n",
    "\n",
    "It is needed to calculate every conductance for every wall, door and window, to build G: "
   ]
  },
  {
   "cell_type": "code",
   "execution_count": 35,
   "id": "979eece1",
   "metadata": {},
   "outputs": [
    {
     "name": "stdout",
     "output_type": "stream",
     "text": [
      "[[1.55370000e+02 0.00000000e+00 0.00000000e+00 0.00000000e+00\n",
      "  0.00000000e+00 0.00000000e+00 0.00000000e+00 0.00000000e+00\n",
      "  0.00000000e+00 0.00000000e+00 0.00000000e+00 0.00000000e+00\n",
      "  0.00000000e+00 0.00000000e+00 0.00000000e+00 0.00000000e+00\n",
      "  0.00000000e+00 0.00000000e+00 0.00000000e+00 0.00000000e+00\n",
      "  0.00000000e+00 0.00000000e+00 0.00000000e+00 0.00000000e+00\n",
      "  0.00000000e+00 0.00000000e+00 0.00000000e+00]\n",
      " [0.00000000e+00 6.12730900e-01 0.00000000e+00 0.00000000e+00\n",
      "  0.00000000e+00 0.00000000e+00 0.00000000e+00 0.00000000e+00\n",
      "  0.00000000e+00 0.00000000e+00 0.00000000e+00 0.00000000e+00\n",
      "  0.00000000e+00 0.00000000e+00 0.00000000e+00 0.00000000e+00\n",
      "  0.00000000e+00 0.00000000e+00 0.00000000e+00 0.00000000e+00\n",
      "  0.00000000e+00 0.00000000e+00 0.00000000e+00 0.00000000e+00\n",
      "  0.00000000e+00 0.00000000e+00 0.00000000e+00]\n",
      " [0.00000000e+00 0.00000000e+00 6.12730900e-01 0.00000000e+00\n",
      "  0.00000000e+00 0.00000000e+00 0.00000000e+00 0.00000000e+00\n",
      "  0.00000000e+00 0.00000000e+00 0.00000000e+00 0.00000000e+00\n",
      "  0.00000000e+00 0.00000000e+00 0.00000000e+00 0.00000000e+00\n",
      "  0.00000000e+00 0.00000000e+00 0.00000000e+00 0.00000000e+00\n",
      "  0.00000000e+00 0.00000000e+00 0.00000000e+00 0.00000000e+00\n",
      "  0.00000000e+00 0.00000000e+00 0.00000000e+00]\n",
      " [0.00000000e+00 0.00000000e+00 0.00000000e+00 7.30354491e-02\n",
      "  0.00000000e+00 0.00000000e+00 0.00000000e+00 0.00000000e+00\n",
      "  0.00000000e+00 0.00000000e+00 0.00000000e+00 0.00000000e+00\n",
      "  0.00000000e+00 0.00000000e+00 0.00000000e+00 0.00000000e+00\n",
      "  0.00000000e+00 0.00000000e+00 0.00000000e+00 0.00000000e+00\n",
      "  0.00000000e+00 0.00000000e+00 0.00000000e+00 0.00000000e+00\n",
      "  0.00000000e+00 0.00000000e+00 0.00000000e+00]\n",
      " [0.00000000e+00 0.00000000e+00 0.00000000e+00 0.00000000e+00\n",
      "  7.30354491e-02 0.00000000e+00 0.00000000e+00 0.00000000e+00\n",
      "  0.00000000e+00 0.00000000e+00 0.00000000e+00 0.00000000e+00\n",
      "  0.00000000e+00 0.00000000e+00 0.00000000e+00 0.00000000e+00\n",
      "  0.00000000e+00 0.00000000e+00 0.00000000e+00 0.00000000e+00\n",
      "  0.00000000e+00 0.00000000e+00 0.00000000e+00 0.00000000e+00\n",
      "  0.00000000e+00 0.00000000e+00 0.00000000e+00]\n",
      " [0.00000000e+00 0.00000000e+00 0.00000000e+00 0.00000000e+00\n",
      "  0.00000000e+00 6.21480000e+01 0.00000000e+00 0.00000000e+00\n",
      "  0.00000000e+00 0.00000000e+00 0.00000000e+00 0.00000000e+00\n",
      "  0.00000000e+00 0.00000000e+00 0.00000000e+00 0.00000000e+00\n",
      "  0.00000000e+00 0.00000000e+00 0.00000000e+00 0.00000000e+00\n",
      "  0.00000000e+00 0.00000000e+00 0.00000000e+00 0.00000000e+00\n",
      "  0.00000000e+00 0.00000000e+00 0.00000000e+00]\n",
      " [0.00000000e+00 0.00000000e+00 0.00000000e+00 0.00000000e+00\n",
      "  0.00000000e+00 0.00000000e+00 1.47966000e+02 0.00000000e+00\n",
      "  0.00000000e+00 0.00000000e+00 0.00000000e+00 0.00000000e+00\n",
      "  0.00000000e+00 0.00000000e+00 0.00000000e+00 0.00000000e+00\n",
      "  0.00000000e+00 0.00000000e+00 0.00000000e+00 0.00000000e+00\n",
      "  0.00000000e+00 0.00000000e+00 0.00000000e+00 0.00000000e+00\n",
      "  0.00000000e+00 0.00000000e+00 0.00000000e+00]\n",
      " [0.00000000e+00 0.00000000e+00 0.00000000e+00 0.00000000e+00\n",
      "  0.00000000e+00 0.00000000e+00 0.00000000e+00 6.75830934e-01\n",
      "  0.00000000e+00 0.00000000e+00 0.00000000e+00 0.00000000e+00\n",
      "  0.00000000e+00 0.00000000e+00 0.00000000e+00 0.00000000e+00\n",
      "  0.00000000e+00 0.00000000e+00 0.00000000e+00 0.00000000e+00\n",
      "  0.00000000e+00 0.00000000e+00 0.00000000e+00 0.00000000e+00\n",
      "  0.00000000e+00 0.00000000e+00 0.00000000e+00]\n",
      " [0.00000000e+00 0.00000000e+00 0.00000000e+00 0.00000000e+00\n",
      "  0.00000000e+00 0.00000000e+00 0.00000000e+00 0.00000000e+00\n",
      "  6.75830934e-01 0.00000000e+00 0.00000000e+00 0.00000000e+00\n",
      "  0.00000000e+00 0.00000000e+00 0.00000000e+00 0.00000000e+00\n",
      "  0.00000000e+00 0.00000000e+00 0.00000000e+00 0.00000000e+00\n",
      "  0.00000000e+00 0.00000000e+00 0.00000000e+00 0.00000000e+00\n",
      "  0.00000000e+00 0.00000000e+00 0.00000000e+00]\n",
      " [0.00000000e+00 0.00000000e+00 0.00000000e+00 0.00000000e+00\n",
      "  0.00000000e+00 0.00000000e+00 0.00000000e+00 0.00000000e+00\n",
      "  0.00000000e+00 8.13029695e-02 0.00000000e+00 0.00000000e+00\n",
      "  0.00000000e+00 0.00000000e+00 0.00000000e+00 0.00000000e+00\n",
      "  0.00000000e+00 0.00000000e+00 0.00000000e+00 0.00000000e+00\n",
      "  0.00000000e+00 0.00000000e+00 0.00000000e+00 0.00000000e+00\n",
      "  0.00000000e+00 0.00000000e+00 0.00000000e+00]\n",
      " [0.00000000e+00 0.00000000e+00 0.00000000e+00 0.00000000e+00\n",
      "  0.00000000e+00 0.00000000e+00 0.00000000e+00 0.00000000e+00\n",
      "  0.00000000e+00 0.00000000e+00 8.13029695e-02 0.00000000e+00\n",
      "  0.00000000e+00 0.00000000e+00 0.00000000e+00 0.00000000e+00\n",
      "  0.00000000e+00 0.00000000e+00 0.00000000e+00 0.00000000e+00\n",
      "  0.00000000e+00 0.00000000e+00 0.00000000e+00 0.00000000e+00\n",
      "  0.00000000e+00 0.00000000e+00 0.00000000e+00]\n",
      " [0.00000000e+00 0.00000000e+00 0.00000000e+00 0.00000000e+00\n",
      "  0.00000000e+00 0.00000000e+00 0.00000000e+00 0.00000000e+00\n",
      "  0.00000000e+00 0.00000000e+00 0.00000000e+00 5.91864000e+01\n",
      "  0.00000000e+00 0.00000000e+00 0.00000000e+00 0.00000000e+00\n",
      "  0.00000000e+00 0.00000000e+00 0.00000000e+00 0.00000000e+00\n",
      "  0.00000000e+00 0.00000000e+00 0.00000000e+00 0.00000000e+00\n",
      "  0.00000000e+00 0.00000000e+00 0.00000000e+00]\n",
      " [0.00000000e+00 0.00000000e+00 0.00000000e+00 0.00000000e+00\n",
      "  0.00000000e+00 0.00000000e+00 0.00000000e+00 0.00000000e+00\n",
      "  0.00000000e+00 0.00000000e+00 0.00000000e+00 0.00000000e+00\n",
      "  6.40640000e+01 0.00000000e+00 0.00000000e+00 0.00000000e+00\n",
      "  0.00000000e+00 0.00000000e+00 0.00000000e+00 0.00000000e+00\n",
      "  0.00000000e+00 0.00000000e+00 0.00000000e+00 0.00000000e+00\n",
      "  0.00000000e+00 0.00000000e+00 0.00000000e+00]\n",
      " [0.00000000e+00 0.00000000e+00 0.00000000e+00 0.00000000e+00\n",
      "  0.00000000e+00 0.00000000e+00 0.00000000e+00 0.00000000e+00\n",
      "  0.00000000e+00 0.00000000e+00 0.00000000e+00 0.00000000e+00\n",
      "  0.00000000e+00 1.56093906e+00 0.00000000e+00 0.00000000e+00\n",
      "  0.00000000e+00 0.00000000e+00 0.00000000e+00 0.00000000e+00\n",
      "  0.00000000e+00 0.00000000e+00 0.00000000e+00 0.00000000e+00\n",
      "  0.00000000e+00 0.00000000e+00 0.00000000e+00]\n",
      " [0.00000000e+00 0.00000000e+00 0.00000000e+00 0.00000000e+00\n",
      "  0.00000000e+00 0.00000000e+00 0.00000000e+00 0.00000000e+00\n",
      "  0.00000000e+00 0.00000000e+00 0.00000000e+00 0.00000000e+00\n",
      "  0.00000000e+00 0.00000000e+00 1.56093906e+00 0.00000000e+00\n",
      "  0.00000000e+00 0.00000000e+00 0.00000000e+00 0.00000000e+00\n",
      "  0.00000000e+00 0.00000000e+00 0.00000000e+00 0.00000000e+00\n",
      "  0.00000000e+00 0.00000000e+00 0.00000000e+00]\n",
      " [0.00000000e+00 0.00000000e+00 0.00000000e+00 0.00000000e+00\n",
      "  0.00000000e+00 0.00000000e+00 0.00000000e+00 0.00000000e+00\n",
      "  0.00000000e+00 0.00000000e+00 0.00000000e+00 0.00000000e+00\n",
      "  0.00000000e+00 0.00000000e+00 0.00000000e+00 1.87782143e-01\n",
      "  0.00000000e+00 0.00000000e+00 0.00000000e+00 0.00000000e+00\n",
      "  0.00000000e+00 0.00000000e+00 0.00000000e+00 0.00000000e+00\n",
      "  0.00000000e+00 0.00000000e+00 0.00000000e+00]\n",
      " [0.00000000e+00 0.00000000e+00 0.00000000e+00 0.00000000e+00\n",
      "  0.00000000e+00 0.00000000e+00 0.00000000e+00 0.00000000e+00\n",
      "  0.00000000e+00 0.00000000e+00 0.00000000e+00 0.00000000e+00\n",
      "  0.00000000e+00 0.00000000e+00 0.00000000e+00 0.00000000e+00\n",
      "  1.87782143e-01 0.00000000e+00 0.00000000e+00 0.00000000e+00\n",
      "  0.00000000e+00 0.00000000e+00 0.00000000e+00 0.00000000e+00\n",
      "  0.00000000e+00 0.00000000e+00 0.00000000e+00]\n",
      " [0.00000000e+00 0.00000000e+00 0.00000000e+00 0.00000000e+00\n",
      "  0.00000000e+00 0.00000000e+00 0.00000000e+00 0.00000000e+00\n",
      "  0.00000000e+00 0.00000000e+00 0.00000000e+00 0.00000000e+00\n",
      "  0.00000000e+00 0.00000000e+00 0.00000000e+00 0.00000000e+00\n",
      "  0.00000000e+00 2.56256000e+01 0.00000000e+00 0.00000000e+00\n",
      "  0.00000000e+00 0.00000000e+00 0.00000000e+00 0.00000000e+00\n",
      "  0.00000000e+00 0.00000000e+00 0.00000000e+00]\n",
      " [0.00000000e+00 0.00000000e+00 0.00000000e+00 0.00000000e+00\n",
      "  0.00000000e+00 0.00000000e+00 0.00000000e+00 0.00000000e+00\n",
      "  0.00000000e+00 0.00000000e+00 0.00000000e+00 0.00000000e+00\n",
      "  0.00000000e+00 0.00000000e+00 0.00000000e+00 0.00000000e+00\n",
      "  0.00000000e+00 0.00000000e+00 1.76273600e+02 0.00000000e+00\n",
      "  0.00000000e+00 0.00000000e+00 0.00000000e+00 0.00000000e+00\n",
      "  0.00000000e+00 0.00000000e+00 0.00000000e+00]\n",
      " [0.00000000e+00 0.00000000e+00 0.00000000e+00 0.00000000e+00\n",
      "  0.00000000e+00 0.00000000e+00 0.00000000e+00 0.00000000e+00\n",
      "  0.00000000e+00 0.00000000e+00 0.00000000e+00 0.00000000e+00\n",
      "  0.00000000e+00 0.00000000e+00 0.00000000e+00 0.00000000e+00\n",
      "  0.00000000e+00 0.00000000e+00 0.00000000e+00 2.26919970e+00\n",
      "  0.00000000e+00 0.00000000e+00 0.00000000e+00 0.00000000e+00\n",
      "  0.00000000e+00 0.00000000e+00 0.00000000e+00]\n",
      " [0.00000000e+00 0.00000000e+00 0.00000000e+00 0.00000000e+00\n",
      "  0.00000000e+00 0.00000000e+00 0.00000000e+00 0.00000000e+00\n",
      "  0.00000000e+00 0.00000000e+00 0.00000000e+00 0.00000000e+00\n",
      "  0.00000000e+00 0.00000000e+00 0.00000000e+00 0.00000000e+00\n",
      "  0.00000000e+00 0.00000000e+00 0.00000000e+00 0.00000000e+00\n",
      "  2.26919970e+00 0.00000000e+00 0.00000000e+00 0.00000000e+00\n",
      "  0.00000000e+00 0.00000000e+00 0.00000000e+00]\n",
      " [0.00000000e+00 0.00000000e+00 0.00000000e+00 0.00000000e+00\n",
      "  0.00000000e+00 0.00000000e+00 0.00000000e+00 0.00000000e+00\n",
      "  0.00000000e+00 0.00000000e+00 0.00000000e+00 0.00000000e+00\n",
      "  0.00000000e+00 0.00000000e+00 0.00000000e+00 0.00000000e+00\n",
      "  0.00000000e+00 0.00000000e+00 0.00000000e+00 0.00000000e+00\n",
      "  0.00000000e+00 5.12813491e-02 0.00000000e+00 0.00000000e+00\n",
      "  0.00000000e+00 0.00000000e+00 0.00000000e+00]\n",
      " [0.00000000e+00 0.00000000e+00 0.00000000e+00 0.00000000e+00\n",
      "  0.00000000e+00 0.00000000e+00 0.00000000e+00 0.00000000e+00\n",
      "  0.00000000e+00 0.00000000e+00 0.00000000e+00 0.00000000e+00\n",
      "  0.00000000e+00 0.00000000e+00 0.00000000e+00 0.00000000e+00\n",
      "  0.00000000e+00 0.00000000e+00 0.00000000e+00 0.00000000e+00\n",
      "  0.00000000e+00 0.00000000e+00 5.12813491e-02 0.00000000e+00\n",
      "  0.00000000e+00 0.00000000e+00 0.00000000e+00]\n",
      " [0.00000000e+00 0.00000000e+00 0.00000000e+00 0.00000000e+00\n",
      "  0.00000000e+00 0.00000000e+00 0.00000000e+00 0.00000000e+00\n",
      "  0.00000000e+00 0.00000000e+00 0.00000000e+00 0.00000000e+00\n",
      "  0.00000000e+00 0.00000000e+00 0.00000000e+00 0.00000000e+00\n",
      "  0.00000000e+00 0.00000000e+00 0.00000000e+00 0.00000000e+00\n",
      "  0.00000000e+00 0.00000000e+00 0.00000000e+00 2.56256000e+01\n",
      "  0.00000000e+00 0.00000000e+00 0.00000000e+00]\n",
      " [0.00000000e+00 0.00000000e+00 0.00000000e+00 0.00000000e+00\n",
      "  0.00000000e+00 0.00000000e+00 0.00000000e+00 0.00000000e+00\n",
      "  0.00000000e+00 0.00000000e+00 0.00000000e+00 0.00000000e+00\n",
      "  0.00000000e+00 0.00000000e+00 0.00000000e+00 0.00000000e+00\n",
      "  0.00000000e+00 0.00000000e+00 0.00000000e+00 0.00000000e+00\n",
      "  0.00000000e+00 0.00000000e+00 0.00000000e+00 0.00000000e+00\n",
      "  1.14441600e+01 0.00000000e+00 0.00000000e+00]\n",
      " [0.00000000e+00 0.00000000e+00 0.00000000e+00 0.00000000e+00\n",
      "  0.00000000e+00 0.00000000e+00 0.00000000e+00 0.00000000e+00\n",
      "  0.00000000e+00 0.00000000e+00 0.00000000e+00 0.00000000e+00\n",
      "  0.00000000e+00 0.00000000e+00 0.00000000e+00 0.00000000e+00\n",
      "  0.00000000e+00 0.00000000e+00 0.00000000e+00 0.00000000e+00\n",
      "  0.00000000e+00 0.00000000e+00 0.00000000e+00 0.00000000e+00\n",
      "  0.00000000e+00 8.45560980e+00 0.00000000e+00]\n",
      " [0.00000000e+00 0.00000000e+00 0.00000000e+00 0.00000000e+00\n",
      "  0.00000000e+00 0.00000000e+00 0.00000000e+00 0.00000000e+00\n",
      "  0.00000000e+00 0.00000000e+00 0.00000000e+00 0.00000000e+00\n",
      "  0.00000000e+00 0.00000000e+00 0.00000000e+00 0.00000000e+00\n",
      "  0.00000000e+00 0.00000000e+00 0.00000000e+00 0.00000000e+00\n",
      "  0.00000000e+00 0.00000000e+00 0.00000000e+00 0.00000000e+00\n",
      "  0.00000000e+00 0.00000000e+00 3.52135385e+01]]\n"
     ]
    }
   ],
   "source": [
    "#Calcul des conductance de conduction par mur :\n",
    "    \n",
    "#Wall 2\n",
    "G[0,0]=h['out']*wall2['Surface'][0]\n",
    "G[1,1]=wall2['Conductivity'][0]/(((wall2['Width'][0])/2)*wall2['Surface'][0]) \n",
    "G[2,2]=G[1,1]\n",
    "G[3,3]=wall2['Conductivity'][1]/(((wall2['Width'][1])/2)*wall2['Surface'][1])\n",
    "G[4,4]=G[3,3]\n",
    "G[5,5]=h['in']*wall2['Surface'][0]\n",
    "\n",
    "#Wall 3\n",
    "G[6,6]=h['out']*wall3['Surface'][0]\n",
    "G[7,7]=wall3['Conductivity'][0]/(((wall3['Width'][0])/2)*wall3['Surface'][0])\n",
    "G[8,8]=G[7,7]\n",
    "G[9,9]=wall3['Conductivity'][1]/(((wall3['Width'][1])/2)*wall3['Surface'][1])\n",
    "G[10,10]=G[9,9]\n",
    "G[11,11]=h['in']*wall3['Surface'][0]\n",
    "\n",
    "#Wall 4\n",
    "G[12,12]=h['out']*wall4['Surface'][0]\n",
    "G[13,13]=wall4['Conductivity'][0]/(((wall4['Width'][0])/2)*wall4['Surface'][0])\n",
    "G[14,14]=G[13,13]\n",
    "G[15,15]=wall4['Conductivity'][1]/(((wall4['Width'][1])/2)*wall4['Surface'][1])\n",
    "G[16,16]=G[15,15]\n",
    "G[17,17]=h['in']*wall4['Surface'][0]\n",
    "\n",
    "#Wall 5\n",
    "G[18,18]=h['out']*wall5['Surface'][0]\n",
    "G[19,19]=wall5['Conductivity'][0]/(((wall5['Width'][0])/2)*wall5['Surface'][0])\n",
    "G[20,20]=G[19,19]\n",
    "G[21,21]=wall4['Conductivity'][1]/(((wall5['Width'][1])/2)*wall5['Surface'][1])\n",
    "G[22,22]=G[21,21]\n",
    "G[23,23]=h['in']*wall4['Surface'][0]\n",
    "\n",
    "#Door\n",
    "G[24,24]=1/(1/(h['in']*entrydoor['Surface']))+1/(entrydoor['Conductivity']/((entrydoor['Width'])*entrydoor['Surface']))         \n",
    "G[25,25]=1/(1/(h['in']*storagedoor['Surface']))+1/(storagedoor['Conductivity']/((storagedoor['Width'])*storagedoor['Surface']))\n",
    "\n",
    "\n",
    "#window\n",
    "G[26,26]=1/(1/(h['in']*window['Surface']))+1/(window['Conductivity']/((window['Width'])*window['Surface']))\n",
    "\n",
    "print(G)"
   ]
  },
  {
   "cell_type": "markdown",
   "id": "95cfcf0c",
   "metadata": {},
   "source": [
    "### <p style=\"color:orange\"> 4.3 Calculation of vector b </p>\n",
    "\n",
    "b is the temperature source vector: if there is no temperature source on the branch m, then bm=0.\n",
    "![b](b.png)\n",
    "> matrice b <\n",
    "\n",
    "On python: "
   ]
  },
  {
   "cell_type": "code",
   "execution_count": 36,
   "id": "a352b3af",
   "metadata": {},
   "outputs": [
    {
     "name": "stdout",
     "output_type": "stream",
     "text": [
      "[19.5  0.   0.   0.   0.   0.  19.5  0.   0.   0.   0.   0.  16.4  0.\n",
      "  0.   0.   0.   0.   0.   0.   0.   0.   0.   0.   0.  16.4 19.5]\n"
     ]
    }
   ],
   "source": [
    "#matrice b\n",
    "T0= 19.5\n",
    "TH= 16.4\n",
    "\n",
    "b = np.zeros(27)\n",
    "\n",
    "b[0]=b[6]=b[26]=T0\n",
    "b[12]=b[25]=TH\n",
    "print(b)"
   ]
  },
  {
   "cell_type": "markdown",
   "id": "b535b930",
   "metadata": {},
   "source": [
    "### <p style=\"color:orange\"> 4.4 Calculation of C matrix </p>\n",
    "C is the capacity matrix, a diagonal matrix containing the capacities. If there is no capacity in the node n, then  Cn,n=0.\n",
    "The capacities are equal to the density of the material * the volume (so surface * width).\n",
    "Each material have different capacities so each wall have 2 capacities ( 3 in reality but we don't take into acount the last one, see the hypthesis)\n",
    "\n",
    "Finally on python: "
   ]
  },
  {
   "cell_type": "code",
   "execution_count": 37,
   "id": "7567b7ee",
   "metadata": {},
   "outputs": [],
   "source": [
    "#Calcul de C\n",
    "C2 = wall2['Density'] * wall2['Specific heat'] * wall2['Surface'] * wall2['Width'] #capacities of the wall 2 \n",
    "C3 = wall3['Density'] * wall3['Specific heat'] * wall3['Surface'] * wall3['Width']\n",
    "C4 = wall4['Density'] * wall4['Specific heat'] * wall4['Surface'] * wall4['Width']\n",
    "C5 = wall5['Density'] * wall5['Specific heat'] * wall5['Surface'] * wall5['Width']\n",
    "Cair = air['Density'] * air['Specific heat'] * Va\n"
   ]
  },
  {
   "cell_type": "markdown",
   "id": "fe55519b",
   "metadata": {},
   "source": [
    "For exemple for the wall 2 we have: "
   ]
  },
  {
   "cell_type": "code",
   "execution_count": 38,
   "id": "f62651c8",
   "metadata": {},
   "outputs": [
    {
     "name": "stdout",
     "output_type": "stream",
     "text": [
      "parpaing de ciment    3.976851e+06\n",
      "laine de verre        2.030795e+04\n",
      "BA13                  1.615071e+05\n",
      "dtype: float64\n"
     ]
    }
   ],
   "source": [
    "print (C2)"
   ]
  },
  {
   "cell_type": "markdown",
   "id": "d7895b86",
   "metadata": {},
   "source": [
    "We compute the total C matrix: \n",
    "The first value of C equal zero beacause node 0 haven't capacity but the second have the value of the capcity of the node 1 (second node)... The capacity of the node 1 equal to the capacity of the part of the wall 2 with the material \"parpaing ciment\". And so one. "
   ]
  },
  {
   "cell_type": "code",
   "execution_count": 39,
   "id": "3ce9b1c3",
   "metadata": {},
   "outputs": [],
   "source": [
    "C = np.diag([0, C2[0], 0, C2[1], 0, 0, C3[0], 0, C3[1], 0, 0, C4[0], 0, C4[1], 0, 0, C5[0], 0, C5[1], 0, Cair, 0])\n",
    "\n",
    "#print(C) to see the Python result"
   ]
  },
  {
   "cell_type": "markdown",
   "id": "1c3fe3e8",
   "metadata": {},
   "source": [
    "### <p style=\"color:orange\"> 4.5 Calculation of f vector </p>\n",
    "f is the heat flow source vector: if there is no heat flow source in the node n, then fn=0.In a first approximation, we give values to the vector f as in our code below. f have nq values.\n",
    "These values are given arbitrarily except the last one which corresponds to the data center. \n",
    "\n",
    "![f](f.png)\n",
    "> f vetor "
   ]
  },
  {
   "cell_type": "code",
   "execution_count": 40,
   "id": "3258b68d",
   "metadata": {},
   "outputs": [
    {
     "name": "stdout",
     "output_type": "stream",
     "text": [
      "[ 1000.     0.     0.     0.  1000.  1000.     0.     0.     0.   500.\n",
      "   500.     0.     0.     0.   500.     0.     0.     0.     0.     0.\n",
      " 10000.     0.]\n"
     ]
    }
   ],
   "source": [
    "f=np.zeros(22)\n",
    "f[[0,4,5,9,10,14,20]] = np.array([1000,1000,1000,500,500,500,10000]) \n",
    "print(f)"
   ]
  },
  {
   "cell_type": "markdown",
   "id": "5c91174a",
   "metadata": {},
   "source": [
    "## <p style=\"color:blue\"> 5. Steady state results </p>\n",
    "\n",
    "Because of the instability of the solution, we add a proportional corrector in our modeling. This correction translates \"in reality\" into an HVAC.\n",
    "\n",
    "### <p style=\"color: orange\"> Impact of the coefficient Kp  </p>\n",
    "\n",
    "Kp is behaving like a corrector to force the temperature from the HVAC to be the temperature in the room. The higher it is, the closer the temperature of the room will be to the one of the HVAC. That is the goal of a proportional corrector. The only limit there is is that the higher the Kp is, the more powerful the HVAC needs to be. That is why in our simulation we can not have the exact same temperature in the room as the one set in the HVAC. \n",
    "\n",
    "### <p style=\"color: orange\"> 5.2 With air conditionning  </p>\n",
    "#### <p style=\"color: green\"> 5.2.1 Modify the modelisation  </p>\n",
    "In order to take into account the air conditionning system, we have to modify the modelisation and so matrices. \n",
    "- For the termal modelisation, we add a new branche (in red on the following diagram)\n",
    "![withHVAC.png](withHVAC.png)\n",
    "> new thermal scheme \n",
    "\n",
    "- We add also a new value to the matrices A and b: \n",
    "![newAb.png](newAb.png)\n",
    "> new A matrix and b vector  \n",
    "\n",
    "- The G matrix has to be change too.The conductance of node 27 equal to Kp \n",
    "\n",
    "We have also to modify the Python code of the matrixes: "
   ]
  },
  {
   "cell_type": "code",
   "execution_count": 41,
   "id": "983fd950",
   "metadata": {},
   "outputs": [],
   "source": [
    "# Variables \n",
    "Va = 107.3\n",
    "nb_branches = 28\n",
    "nb_noeuds = 22\n",
    "\n",
    "    #Calcul des matrices\n",
    "#Code matrice A\n",
    "A = np.zeros([nb_branches,nb_noeuds])\n",
    "A[0,0]=1\n",
    "A[1,0],A[1,1]=-1,1\n",
    "A[2,1],A[2,2]=-1,1\n",
    "A[3,2],A[3,3]=-1,1\n",
    "A[4,3],A[4,4]=-1,1\n",
    "A[5,4],A[5,20]=-1,1\n",
    "A[1,0],A[1,1]=-1,1\n",
    "\n",
    "A[6,5]=1\n",
    "A[7,5],A[7,6]=-1,1\n",
    "A[8,6],A[8,7]=-1,1\n",
    "A[9,7],A[9,8]=-1,1\n",
    "A[10,8],A[10,9]=-1,1\n",
    "A[11,9],A[11,20]=-1,1\n",
    "\n",
    "A[12,10]=1\n",
    "A[13,10],A[13,11]=-1,1\n",
    "A[14,11],A[14,12]=-1,1\n",
    "A[15,12],A[15,13]=-1,1\n",
    "A[16,13],A[16,14]=-1,1\n",
    "A[17,14],A[17,20]=-1,1\n",
    "A[18,15],A[18,20]=-1,1\n",
    "\n",
    "A[19,15],A[19,16]=-1,1\n",
    "A[20,16],A[20,17]=-1,1\n",
    "A[21, 17], A[21, 18] = -1, 1\n",
    "A[22,18],A[22,19]=-1,1\n",
    "A[23,19],A[23,21]=-1,1\n",
    "A[24,20],A[24,21]=-1,1\n",
    "A[25,20]=1\n",
    "A[26,20]=1\n",
    "A[27,20]=1\n",
    "\n",
    "#Code matrice G\n",
    "G=np.zeros([nb_branches,nb_branches])\n",
    "\n",
    "#Calcul des conductance de conduction par mur :\n",
    "    \n",
    "#Wall 2\n",
    "\n",
    "G[0,0]=h['out']*wall2['Surface'][0]\n",
    "G[1,1]=wall2['Conductivity'][0]/(((wall2['Width'][0])/2)*wall2['Surface'][0])\n",
    "G[2,2]=G[1,1]\n",
    "G[3,3]=wall2['Conductivity'][1]/(((wall2['Width'][1])/2)*wall2['Surface'][1])\n",
    "G[4,4]=G[3,3]\n",
    "G[5,5]=h['in']*wall2['Surface'][0]\n",
    "\n",
    "#Wall 3\n",
    "\n",
    "G[6,6]=h['out']*wall3['Surface'][0]\n",
    "G[7,7]=wall3['Conductivity'][0]/(((wall3['Width'][0])/2)*wall3['Surface'][0])\n",
    "G[8,8]=G[7,7]\n",
    "G[9,9]=wall3['Conductivity'][1]/(((wall3['Width'][1])/2)*wall3['Surface'][1])\n",
    "G[10,10]=G[9,9]\n",
    "G[11,11]=h['in']*wall3['Surface'][0]\n",
    "\n",
    "#Wall 4\n",
    "\n",
    "G[12,12]=h['out']*wall4['Surface'][0]\n",
    "G[13,13]=wall4['Conductivity'][0]/(((wall4['Width'][0])/2)*wall4['Surface'][0])\n",
    "G[14,14]=G[13,13]\n",
    "G[15,15]=wall4['Conductivity'][1]/(((wall4['Width'][1])/2)*wall4['Surface'][1])\n",
    "G[16,16]=G[15,15]\n",
    "G[17,17]=h['in']*wall4['Surface'][0]\n",
    "\n",
    "#Wall 5\n",
    "\n",
    "G[18,18]=h['out']*wall5['Surface'][0]\n",
    "G[19,19]=wall5['Conductivity'][0]/(((wall5['Width'][0])/2)*wall5['Surface'][0])\n",
    "G[20,20]=G[19,19]\n",
    "G[21,21]=wall4['Conductivity'][1]/(((wall5['Width'][1])/2)*wall5['Surface'][1])\n",
    "G[22,22]=G[21,21]\n",
    "G[23,23]=h['in']*wall4['Surface'][0]\n",
    "\n",
    "# Door\n",
    "G[24,24]=1/(1/(h['in']*entrydoor['Surface']))+1/(entrydoor['Conductivity']/((entrydoor['Width'])*entrydoor['Surface']))      \n",
    "G[25,25]=1/(1/(h['in']*storagedoor['Surface']))+1/(storagedoor['Conductivity']/((storagedoor['Width'])*storagedoor['Surface']))\n",
    "\n",
    "\n",
    "# window\n",
    "G[26,26]=1/(1/(h['in']*window['Surface']))+1/(window['Conductivity']/((window['Width'])*window['Surface']))\n",
    "\n",
    "# HVAC\n",
    "Kp = 1000\n",
    "G[27,27] = Kp\n",
    "\n",
    "#matrice b\n",
    "T0 = 19.5\n",
    "TH = 16.4\n",
    "Tventil = 20.0\n",
    "b = np.zeros(nb_branches)\n",
    "\n",
    "b[0] = b[6] = b[26] = T0\n",
    "b[12] = b[25] = TH\n",
    "b[27] = Tventil\n",
    "#b[[0, 6, 12]]= 1\n",
    "\n",
    "σ = 5.67e-8     # W/m².K⁴ Stefan-Bolzmann constant\n",
    "ε_wLW = 0.9     # long wave wall emmisivity (concrete)\n",
    "α_wSW = 0.2     # absortivity white surface\n",
    "ε_gLW = 0.9     # long wave glass emmisivity (glass pyrex)\n",
    "τ_gSW = 0.83    # short wave glass transmitance (glass)\n",
    "α_gSW = 0.1     # short wave glass absortivity\n",
    "\n",
    "\n",
    "#Calcul de C\n",
    "C2 = wall2['Density'] * wall2['Specific heat'] * wall2['Surface'] * wall2['Width']\n",
    "C3 = wall3['Density'] * wall3['Specific heat'] * wall3['Surface'] * wall3['Width']\n",
    "C4 = wall4['Density'] * wall4['Specific heat'] * wall4['Surface'] * wall4['Width']\n",
    "C5 = wall5['Density'] * wall5['Specific heat'] * wall5['Surface'] * wall5['Width']\n",
    "Cair = air['Density'] * air['Specific heat'] * Va\n",
    "\n",
    "C = np.diag([0, C2[0], 0, C2[1], 0, 0, C3[0], 0, C3[1], 0, 0, C4[0], 0, C4[1], 0, 0, C5[0], 0, C5[1], 0, Cair, 0])\n",
    "\n",
    "\n",
    "# #matrice f\n",
    "# f=np.zeros(22)\n",
    "# f[[0,4,5,9,10,20]] = np.array([1000,1000,1000,500,500,4000])\n",
    "# #f[[0,4,5,9,10,20]] = 1\n",
    "# #vecteur y\n",
    "# y=np.ones(22)\n",
    "\n",
    "f=np.zeros(nb_noeuds)\n",
    "\n",
    "f[[0,4,5,9,10,14,20]] = np.array([1000,1000,1000,500,500,500,4000])"
   ]
  },
  {
   "cell_type": "markdown",
   "id": "7a294599",
   "metadata": {},
   "source": [
    "## <p style=\"color:blue\"> 4. Results </p>\n",
    "### <p style=\"color:orange\"> 4.1 Steady-state results </p>\n",
    "We compute the vectors u and y needed to solve the problem:"
   ]
  },
  {
   "cell_type": "code",
   "execution_count": 44,
   "id": "28918ed2",
   "metadata": {},
   "outputs": [],
   "source": [
    "y = np.ones(nb_noeuds)\n",
    "u = np.hstack([b[np.nonzero(b)], f[np.nonzero(f)]])"
   ]
  },
  {
   "cell_type": "markdown",
   "id": "d8f84329",
   "metadata": {},
   "source": [
    "We can then solve the problem in steady state:"
   ]
  },
  {
   "cell_type": "code",
   "execution_count": 45,
   "id": "c68a5a74",
   "metadata": {},
   "outputs": [
    {
     "name": "stdout",
     "output_type": "stream",
     "text": [
      "[25.94  26.783 27.627 34.705 41.783 26.26  26.684 27.107 30.625 34.144\n",
      " 24.232 25.355 26.478 35.811 45.144 25.7   25.7   25.7   25.7   25.7\n",
      " 25.7   25.7  ]\n",
      "[25.94  26.783 27.627 34.705 41.783 26.26  26.684 27.107 30.625 34.144\n",
      " 24.232 25.355 26.478 35.811 45.144 25.7   25.7   25.7   25.7   25.7\n",
      " 25.7   25.7  ]\n",
      "Max error in steady-state between thermal circuit and state-space:  6.08e-11\n"
     ]
    }
   ],
   "source": [
    "### State Space Model ###\n",
    "[As, Bs, Cs, Ds] = dm4bem.tc2ss(A, G, b, C, f, y)\n",
    "\n",
    "yss = (-Cs @ np.linalg.inv(As) @ Bs + Ds) @ u\n",
    "ytc = np.linalg.inv(A.T @ G @ A) @ (A.T @ G @ b + f)\n",
    "\n",
    "print(np.array_str(yss, precision=3, suppress_small=True))\n",
    "print(np.array_str(ytc, precision=3, suppress_small=True))\n",
    "print(f'Max error in steady-state between thermal circuit and state-space:\\\n",
    "  {max(abs(yss - ytc)):.2e}')\n"
   ]
  },
  {
   "cell_type": "markdown",
   "id": "b7134078",
   "metadata": {},
   "source": [
    "The maximal error between thermal circuit and state-space model is very low, it shows that we can use the state-space model to modelize the system."
   ]
  },
  {
   "cell_type": "markdown",
   "id": "ed58bdb6",
   "metadata": {},
   "source": [
    "### <p style=\"color:orange\"> 4.2 Dynamic simulation</p>"
   ]
  },
  {
   "cell_type": "markdown",
   "id": "c344d86a",
   "metadata": {},
   "source": [
    "We modified the output vector y to select only the desired temperatures inside the 2 rooms."
   ]
  },
  {
   "cell_type": "code",
   "execution_count": 46,
   "id": "7da63436",
   "metadata": {},
   "outputs": [
    {
     "name": "stdout",
     "output_type": "stream",
     "text": [
      "[25.7 25.7]\n"
     ]
    }
   ],
   "source": [
    "y = np.zeros(nb_noeuds)\n",
    "y[[20,21]] = 1\n",
    "[As, Bs, Cs, Ds] = dm4bem.tc2ss(A, G, b, C, f, y)\n",
    "\n",
    "yss = (-Cs @ np.linalg.inv(As) @ Bs + Ds) @ u\n",
    "\n",
    "print(np.array_str(yss, precision=3, suppress_small=True))\n"
   ]
  },
  {
   "cell_type": "markdown",
   "id": "ab030643",
   "metadata": {},
   "source": [
    "We get 25.7°c in the rooms, which is logical."
   ]
  },
  {
   "cell_type": "markdown",
   "id": "519f9073",
   "metadata": {},
   "source": [
    "### <p style=\"color:orange\"> 4.3 Time step </p>"
   ]
  },
  {
   "cell_type": "markdown",
   "id": "72d94e29",
   "metadata": {},
   "source": [
    "We calculated the maximum time step for numerical stability of Euler explicit integration in time. Thanks to this result, we choose to use a time step of 50s.\n"
   ]
  },
  {
   "cell_type": "code",
   "execution_count": 47,
   "id": "0a7c9675",
   "metadata": {},
   "outputs": [
    {
     "name": "stdout",
     "output_type": "stream",
     "text": [
      "Maximum time step: 246.12 s\n"
     ]
    }
   ],
   "source": [
    "dtmax = min(-2./np.linalg.eig(As)[0])\n",
    "print(f'Maximum time step: {dtmax:.2f} s')\n",
    "\n",
    "dt = 50\n"
   ]
  },
  {
   "cell_type": "markdown",
   "id": "a5200c06",
   "metadata": {},
   "source": [
    "### <p style=\"color:orange\"> 4.4 Step response </p>"
   ]
  },
  {
   "cell_type": "markdown",
   "id": "0cc2af3d",
   "metadata": {},
   "source": [
    "We tested the step response by comparing Euler implicit and explicit."
   ]
  },
  {
   "cell_type": "code",
   "execution_count": 48,
   "id": "3ada915b",
   "metadata": {},
   "outputs": [
    {
     "data": {
      "image/png": "[encoded data removed]",
      "text/plain": [
       "<Figure size 432x288 with 1 Axes>"
      ]
     },
     "metadata": {
      "needs_background": "light"
     },
     "output_type": "display_data"
    }
   ],
   "source": [
    "duration = 3600 * 24 * 2\n",
    "\n",
    "# Number of steps\n",
    "n = int(np.floor(duration/dt))\n",
    "t = np.arange(0,n*dt,dt) #time\n",
    "\n",
    "# Vectors of state and input (in time)\n",
    "n_tC = As.shape[0]              # no of state variables (temps with capacity)\n",
    "u = np.zeros([13, n])\n",
    "u[0:6, :] = np.ones([6, n])\n",
    "\n",
    "temp_exp = np.zeros([n_tC, t.shape[0]])\n",
    "temp_imp = np.zeros([n_tC, t.shape[0]])\n",
    "\n",
    "I = np.eye(n_tC)\n",
    "for k in range(n - 1):\n",
    "    temp_exp[:, k + 1] = (I + dt * As) @\\\n",
    "        temp_exp[:, k] + dt * Bs @ u[:, k]\n",
    "    temp_imp[:, k + 1] = np.linalg.inv(I - dt * As) @\\\n",
    "        (temp_imp[:, k] + dt * Bs @ u[:, k])\n",
    "       \n",
    "\n",
    "y_exp = Cs @ temp_exp + Ds @  u\n",
    "y_imp = Cs @ temp_imp + Ds @  u\n",
    "\n",
    "fig, ax = plt.subplots()\n",
    "\n",
    "ax.plot(t/60, y_exp.T, color='m')\n",
    "ax.plot(t/60, y_imp.T, color='r')\n",
    "ax.set(xlabel='Time [min]',\n",
    "        ylabel='$T_i$ [°C]',\n",
    "        title='Step input: To = 1°C')\n",
    "plt.show()\n",
    "\n"
   ]
  },
  {
   "cell_type": "markdown",
   "id": "a154fde0",
   "metadata": {},
   "source": [
    "More precisly, we have :"
   ]
  },
  {
   "cell_type": "code",
   "execution_count": 49,
   "id": "4051a152",
   "metadata": {},
   "outputs": [
    {
     "data": {
      "image/png": "[encoded data removed]",
      "text/plain": [
       "<Figure size 432x288 with 1 Axes>"
      ]
     },
     "metadata": {
      "needs_background": "light"
     },
     "output_type": "display_data"
    }
   ],
   "source": [
    "fig, ax = plt.subplots()\n",
    "ax.set_xlim(0, 10)\n",
    "ax.plot(t/60, y_exp.T, color='m')\n",
    "ax.plot(t/60, y_imp.T, color='r')\n",
    "ax.set(xlabel='Time [min]',\n",
    "        ylabel='$T_i$ [°C]',\n",
    "        title='Step input: To = 1°C')\n",
    "plt.show()"
   ]
  },
  {
   "cell_type": "markdown",
   "id": "3178e73c",
   "metadata": {},
   "source": [
    "The Euler explicit method is faster, so we used this one."
   ]
  },
  {
   "cell_type": "code",
   "execution_count": 50,
   "id": "25229179",
   "metadata": {},
   "outputs": [
    {
     "name": "stdout",
     "output_type": "stream",
     "text": [
      "Steady-state indoor temperature obtained with:\n",
      "- DAE model: 1.0000 °C\n",
      "- response to step input: 0.9995684310700272 °C\n"
     ]
    }
   ],
   "source": [
    "b = np.zeros(nb_branches)\n",
    "\n",
    "b[0] = b[6] = b[26] = 1\n",
    "b[12] = b[25] = 1\n",
    "b[27] = 1\n",
    "\n",
    "f=np.zeros(nb_noeuds)\n",
    "\n",
    "ytc = np.linalg.inv(A.T @ G @ A) @ (A.T @ G @ b + f)\n",
    "print('Steady-state indoor temperature obtained with:')\n",
    "print(f'- DAE model: {ytc[20]:.4f} °C')\n",
    "print('- response to step input:', y_exp[0,len(y_exp[0])-1], '°C')\n"
   ]
  },
  {
   "cell_type": "markdown",
   "id": "d3fe9960",
   "metadata": {},
   "source": [
    "### <p style=\"color:orange\"> 4.5 Simulation </p>"
   ]
  },
  {
   "cell_type": "markdown",
   "id": "8cf23448",
   "metadata": {},
   "source": [
    "We initialize again the model : "
   ]
  },
  {
   "cell_type": "code",
   "execution_count": 51,
   "id": "accd1306",
   "metadata": {},
   "outputs": [],
   "source": [
    "b = np.zeros(nb_branches)\n",
    "\n",
    "b[0] = b[6] = b[26] = T0\n",
    "b[12] = b[25] = TH\n",
    "b[27] = Tventil\n",
    "\n",
    "f=np.zeros(nb_noeuds)\n",
    "\n",
    "f[[0,4,5,9,10,14,20]] = np.array([1000,1000,1000,500,500,500,4000])\n",
    "\n",
    "#f[[0,4,5,9,10,20]] = 1\n",
    "\n",
    "#vecteur y\n",
    "#y = np.ones(nb_noeuds)\n",
    "y[[20,21]] = 1\n",
    "\n",
    "\n",
    "#vecteur u\n",
    "u = np.hstack([b[np.nonzero(b)], f[np.nonzero(f)]])\n",
    "\n",
    "[As, Bs, Cs, Ds] = dm4bem.tc2ss(A, G, b, C, f, y)"
   ]
  },
  {
   "cell_type": "markdown",
   "id": "ad7c9aa7",
   "metadata": {},
   "source": [
    "We implement the weather information of the place, i.e. Grenoble :\n"
   ]
  },
  {
   "cell_type": "code",
   "execution_count": 61,
   "id": "0f2ccb55",
   "metadata": {},
   "outputs": [],
   "source": [
    "b = np.zeros(nb_branches)\n",
    "\n",
    "b[0] = b[6] = b[26] = T0\n",
    "b[12] = b[25] = TH\n",
    "b[27] = Tventil\n",
    "\n",
    "f=np.zeros(nb_noeuds)\n",
    "\n",
    "f[[0,4,5,9,10,14,20]] = np.array([1000,1000,1000,500,500,500,4000])\n",
    "\n",
    "#f[[0,4,5,9,10,20]] = 1\n",
    "\n",
    "#vecteur y\n",
    "#y = np.ones(nb_noeuds)\n",
    "y[[20,21]] = 1\n",
    "\n",
    "\n",
    "#vecteur u\n",
    "u = np.hstack([b[np.nonzero(b)], f[np.nonzero(f)]])\n",
    "\n",
    "[As, Bs, Cs, Ds] = dm4bem.tc2ss(A, G, b, C, f, y)\n",
    "\n",
    "\n",
    "\n",
    "filename = 'FRA_AR_Grenoble.Alpes.Isere.AP.074860_TMYx.2004-2018.epw'\n",
    "start_date = '2017-07-03 12:00:00'\n",
    "end_date = '2017-08-05 18:00:00'\n",
    "\n",
    "# Read weather data from Energyplus .epw file\n",
    "[data, meta] = dm4bem.read_epw(filename, coerce_year=None)\n",
    "weather = data[[\"temp_air\", \"dir_n_rad\", \"dif_h_rad\"]]\n",
    "del data\n",
    "weather.index = weather.index.map(lambda t: t.replace(year=2017))\n",
    "weather = weather[(weather.index >= start_date) & (\n",
    "    weather.index < end_date)]\n",
    "\n",
    "surface_orientation2 = {'slope': 90,\n",
    "                        'azimuth': 0,\n",
    "                        'latitude': 45}\n",
    "albedo = 0.5\n",
    "rad_surf2 = dm4bem.sol_rad_tilt_surf(weather, surface_orientation2, albedo)\n",
    "rad_surf2['Qray0'] = rad_surf2.sum(axis=1)\n",
    "\n",
    "surface_orientation3 = {'slope': 90,\n",
    "                        'azimuth': 270,\n",
    "                        'latitude': 45}\n",
    "albedo = 0.5\n",
    "rad_surf3 = dm4bem.sol_rad_tilt_surf(weather, surface_orientation3, albedo)\n",
    "rad_surf3['Qray5'] = rad_surf3.sum(axis=1)\n",
    "\n",
    "data = pd.concat([weather['temp_air'], rad_surf2['Qray0'],rad_surf3['Qray5']], axis=1)\n",
    "data = data.resample(str(dt) + 'S').interpolate(method='linear')\n",
    "data = data.rename(columns={'temp_air': 'T0'})\n",
    "\n",
    "\n",
    "data['Tventil'] = 20 * np.ones(data.shape[0])\n",
    "data['TH'] = 16.4 * np.ones(data.shape[0])\n",
    "data['Q4'] = 1000 * np.ones(data.shape[0])\n",
    "data['Q9'] = 500 * np.ones(data.shape[0])\n",
    "data['Q10'] = 500 * np.ones(data.shape[0])\n",
    "data['Q14'] = 500 * np.ones(data.shape[0])\n",
    "data['Q20'] = 4000 * np.ones(data.shape[0])\n",
    "\n",
    "t = dt * np.arange(data.shape[0])\n",
    "\n",
    "u = pd.concat([data['T0'], data['T0'], data['T0'],data['TH'],data['TH'], data['Tventil'],\n",
    "                α_wSW * wall2['Surface']['parpaing de ciment'] * data['Qray0'],  data['Q4']\n",
    "                ,α_wSW * wall3['Surface']['beton arme'] * data['Qray5'], data['Q9'], data['Q10'], data['Q14'], data['Q20']], axis=1)\n",
    "\n",
    "temp_exp = 20 * np.ones([As.shape[0], u.shape[0]])\n",
    "y_exp = Cs @ temp_exp + Ds @ u.to_numpy().T\n",
    "q_HVAC = Kp * (data['Tventil'] - y_exp[0, :])\n",
    "\n"
   ]
  },
  {
   "cell_type": "markdown",
   "id": "7bd6e075",
   "metadata": {},
   "source": [
    "![Result](285563206_504359888142543_3439487882525590915_n.png)\n",
    "> Result with consideration of the weather\n",
    "\n",
    "We can see on this figure that the temperature of the rooms varies well according to the weather data. We also see that the ventilation is set up to regulate the temperature of the rooms. This shows that our simulation takes into account the weather data, but also that the temperature control is functional."
   ]
  },
  {
   "cell_type": "markdown",
   "id": "e2fcf6a0",
   "metadata": {},
   "source": [
    "## <p style=\"color:blue\"> Conclusion </p>"
   ]
  },
  {
   "cell_type": "markdown",
   "id": "dcf25072",
   "metadata": {},
   "source": [
    "After modeling our building and making a number of assumptions, we were able to develop a simulation to try to find out the temperature in the center of the two rooms. \n",
    "It is quite simple to obtain a result in steady state. However, when we want to have a dynamic model, it is necessary to bring a correction (modeled here by a ventilation).\n",
    "It is then possible to realize the dynamic model, but also to take into account external meteorological data, to model our rooms in Grenoble for example.\n",
    "\n",
    "We learned during this work to make complex thermal diagrams, to make the necessary hypotheses for our model, and to code a dynamic simulation allowing to study the behavior of certain parts with respect to certain meteorological conditions.\n"
   ]
  },
  {
   "cell_type": "code",
   "execution_count": null,
   "id": "ea5c727e",
   "metadata": {},
   "outputs": [],
   "source": []
  }
 ],
 "metadata": {
  "kernelspec": {
   "display_name": "Python 3 (ipykernel)",
   "language": "python",
   "name": "python3"
  },
  "language_info": {
   "codemirror_mode": {
    "name": "ipython",
    "version": 3
   },
   "file_extension": ".py",
   "mimetype": "text/x-python",
   "name": "python",
   "nbconvert_exporter": "python",
   "pygments_lexer": "ipython3",
   "version": "3.9.7"
  }
 },
 "nbformat": 4,
 "nbformat_minor": 5
}
